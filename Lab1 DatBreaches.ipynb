{
 "cells": [
  {
   "cell_type": "code",
   "execution_count": 5,
   "metadata": {},
   "outputs": [
    {
     "data": {
      "text/plain": [
       "254"
      ]
     },
     "execution_count": 5,
     "metadata": {},
     "output_type": "execute_result"
    }
   ],
   "source": [
    "#Acessing & Reading the dataset csv file\n",
    "\n",
    "import pandas as pd\n",
    "df1 = pd.read_csv(r\"C:\\Users\\MuhammadAdeel\\Desktop\\DataBreaches.csv\")\n",
    "\n",
    "#Printing the no.of rows in the dataset\n",
    "\n",
    "len(df1)"
   ]
  },
  {
   "cell_type": "code",
   "execution_count": 34,
   "metadata": {},
   "outputs": [
    {
     "name": "stdout",
     "output_type": "stream",
     "text": [
      "['Entity', 'alternative name', 'story', 'YEAR', 'records lost', 'ORGANISATION', 'METHOD OF LEAK', 'interesting story', 'NO OF RECORDS STOLEN', 'DATA SENSITIVITY', 'UNUSED', 'UNUSED', 'Exclude', '', '1st source link', '2nd source link', '3rd source', 'source name']\n"
     ]
    }
   ],
   "source": [
    "#Reading the file and printing out the column names\n",
    "\n",
    "import csv\n",
    "with open(r\"C:/Users/MuhammadAdeel/Desktop/DataBreaches.csv\", \"r\") as f:\n",
    "    reader = csv.reader(f)\n",
    "    i = next(reader)\n",
    "\n",
    "    print(i)\n",
    "    \n",
    "    "
   ]
  }
 ],
 "metadata": {
  "kernelspec": {
   "display_name": "Python 3",
   "language": "python",
   "name": "python3"
  },
  "language_info": {
   "codemirror_mode": {
    "name": "ipython",
    "version": 3
   },
   "file_extension": ".py",
   "mimetype": "text/x-python",
   "name": "python",
   "nbconvert_exporter": "python",
   "pygments_lexer": "ipython3",
   "version": "3.6.1"
  }
 },
 "nbformat": 4,
 "nbformat_minor": 2
}
